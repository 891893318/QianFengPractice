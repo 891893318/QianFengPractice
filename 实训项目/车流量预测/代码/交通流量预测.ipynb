{
 "cells": [
  {
   "cell_type": "code",
   "execution_count": 1,
   "metadata": {
    "ExecuteTime": {
     "end_time": "2023-06-16T14:49:24.262147Z",
     "start_time": "2023-06-16T14:49:23.910808Z"
    }
   },
   "outputs": [],
   "source": [
    "import pandas as pd"
   ]
  },
  {
   "cell_type": "code",
   "execution_count": 2,
   "metadata": {
    "ExecuteTime": {
     "end_time": "2023-06-16T14:49:24.488549Z",
     "start_time": "2023-06-16T14:49:24.262147Z"
    }
   },
   "outputs": [],
   "source": [
    "dfs = pd.read_html(\"Data_View.html\",index_col='Unnamed: 0')"
   ]
  },
  {
   "cell_type": "code",
   "execution_count": 3,
   "metadata": {
    "ExecuteTime": {
     "end_time": "2023-06-16T14:49:24.498612Z",
     "start_time": "2023-06-16T14:49:24.488549Z"
    }
   },
   "outputs": [
    {
     "name": "stdout",
     "output_type": "stream",
     "text": [
      "<class 'pandas.core.frame.DataFrame'>\n",
      "Index: 1418 entries, 0 to 1417\n",
      "Data columns (total 12 columns):\n",
      " #   Column                    Non-Null Count  Dtype  \n",
      "---  ------                    --------------  -----  \n",
      " 0   DEVICEID                  1418 non-null   int64  \n",
      " 1   FROMTIME                  1418 non-null   object \n",
      " 2   TOTIME                    1418 non-null   object \n",
      " 3   INTERVAL                  1418 non-null   float64\n",
      " 4   LANEID                    1418 non-null   int64  \n",
      " 5   COUNT                     1418 non-null   float64\n",
      " 6   REGULARCOUNT              1418 non-null   float64\n",
      " 7   LARGECOUNT                1418 non-null   float64\n",
      " 8   FLOW                      1418 non-null   float64\n",
      " 9   ARITHMETIC_AVERAGE_SPEED  1418 non-null   float64\n",
      " 10  HARMONIC_AVERAGE_SPEED    1418 non-null   float64\n",
      " 11  TURN                      1418 non-null   object \n",
      "dtypes: float64(7), int64(2), object(3)\n",
      "memory usage: 144.0+ KB\n"
     ]
    }
   ],
   "source": [
    "dfs[6].info()"
   ]
  },
  {
   "cell_type": "code",
   "execution_count": 4,
   "metadata": {
    "ExecuteTime": {
     "end_time": "2023-06-16T14:49:24.502884Z",
     "start_time": "2023-06-16T14:49:24.498612Z"
    }
   },
   "outputs": [],
   "source": [
    "df = dfs[6]"
   ]
  },
  {
   "cell_type": "code",
   "execution_count": 5,
   "metadata": {
    "ExecuteTime": {
     "end_time": "2023-06-16T14:49:24.512734Z",
     "start_time": "2023-06-16T14:49:24.502884Z"
    }
   },
   "outputs": [
    {
     "data": {
      "text/plain": [
       "array([3603, 3604, 3605, 3606, 3607, 3608, 3609, 3610], dtype=int64)"
      ]
     },
     "execution_count": 5,
     "metadata": {},
     "output_type": "execute_result"
    }
   ],
   "source": [
    "df['DEVICEID'].unique()"
   ]
  },
  {
   "cell_type": "code",
   "execution_count": 6,
   "metadata": {
    "ExecuteTime": {
     "end_time": "2023-06-16T14:49:24.563406Z",
     "start_time": "2023-06-16T14:49:24.512734Z"
    }
   },
   "outputs": [
    {
     "data": {
      "text/html": [
       "<div>\n",
       "<style scoped>\n",
       "    .dataframe tbody tr th:only-of-type {\n",
       "        vertical-align: middle;\n",
       "    }\n",
       "\n",
       "    .dataframe tbody tr th {\n",
       "        vertical-align: top;\n",
       "    }\n",
       "\n",
       "    .dataframe thead th {\n",
       "        text-align: right;\n",
       "    }\n",
       "</style>\n",
       "<table border=\"1\" class=\"dataframe\">\n",
       "  <thead>\n",
       "    <tr style=\"text-align: right;\">\n",
       "      <th></th>\n",
       "      <th>DEVICEID</th>\n",
       "      <th>FROMTIME</th>\n",
       "      <th>TOTIME</th>\n",
       "      <th>INTERVAL</th>\n",
       "      <th>LANEID</th>\n",
       "      <th>COUNT</th>\n",
       "      <th>REGULARCOUNT</th>\n",
       "      <th>LARGECOUNT</th>\n",
       "      <th>FLOW</th>\n",
       "      <th>ARITHMETIC_AVERAGE_SPEED</th>\n",
       "      <th>HARMONIC_AVERAGE_SPEED</th>\n",
       "      <th>TURN</th>\n",
       "    </tr>\n",
       "  </thead>\n",
       "  <tbody>\n",
       "    <tr>\n",
       "      <th>0</th>\n",
       "      <td>3603</td>\n",
       "      <td>2019-07-05 07:00:00</td>\n",
       "      <td>2019-07-05 07:01:00</td>\n",
       "      <td>60.0</td>\n",
       "      <td>2</td>\n",
       "      <td>1.0</td>\n",
       "      <td>0.0</td>\n",
       "      <td>1.0</td>\n",
       "      <td>60.0</td>\n",
       "      <td>11.465755</td>\n",
       "      <td>11.465755</td>\n",
       "      <td>SR</td>\n",
       "    </tr>\n",
       "    <tr>\n",
       "      <th>1</th>\n",
       "      <td>3603</td>\n",
       "      <td>2019-07-05 07:00:00</td>\n",
       "      <td>2019-07-05 07:01:00</td>\n",
       "      <td>60.0</td>\n",
       "      <td>1</td>\n",
       "      <td>1.0</td>\n",
       "      <td>1.0</td>\n",
       "      <td>0.0</td>\n",
       "      <td>60.0</td>\n",
       "      <td>35.414622</td>\n",
       "      <td>35.414622</td>\n",
       "      <td>SL</td>\n",
       "    </tr>\n",
       "    <tr>\n",
       "      <th>2</th>\n",
       "      <td>3603</td>\n",
       "      <td>2019-07-05 07:01:00</td>\n",
       "      <td>2019-07-05 07:02:00</td>\n",
       "      <td>60.0</td>\n",
       "      <td>2</td>\n",
       "      <td>6.0</td>\n",
       "      <td>6.0</td>\n",
       "      <td>0.0</td>\n",
       "      <td>360.0</td>\n",
       "      <td>32.754597</td>\n",
       "      <td>32.545972</td>\n",
       "      <td>SR</td>\n",
       "    </tr>\n",
       "    <tr>\n",
       "      <th>3</th>\n",
       "      <td>3603</td>\n",
       "      <td>2019-07-05 07:01:00</td>\n",
       "      <td>2019-07-05 07:02:00</td>\n",
       "      <td>60.0</td>\n",
       "      <td>1</td>\n",
       "      <td>4.0</td>\n",
       "      <td>4.0</td>\n",
       "      <td>0.0</td>\n",
       "      <td>240.0</td>\n",
       "      <td>35.540343</td>\n",
       "      <td>35.536300</td>\n",
       "      <td>SL</td>\n",
       "    </tr>\n",
       "    <tr>\n",
       "      <th>4</th>\n",
       "      <td>3603</td>\n",
       "      <td>2019-07-05 07:02:00</td>\n",
       "      <td>2019-07-05 07:03:00</td>\n",
       "      <td>60.0</td>\n",
       "      <td>1</td>\n",
       "      <td>2.0</td>\n",
       "      <td>2.0</td>\n",
       "      <td>0.0</td>\n",
       "      <td>120.0</td>\n",
       "      <td>10.389970</td>\n",
       "      <td>9.688504</td>\n",
       "      <td>SL</td>\n",
       "    </tr>\n",
       "    <tr>\n",
       "      <th>...</th>\n",
       "      <td>...</td>\n",
       "      <td>...</td>\n",
       "      <td>...</td>\n",
       "      <td>...</td>\n",
       "      <td>...</td>\n",
       "      <td>...</td>\n",
       "      <td>...</td>\n",
       "      <td>...</td>\n",
       "      <td>...</td>\n",
       "      <td>...</td>\n",
       "      <td>...</td>\n",
       "      <td>...</td>\n",
       "    </tr>\n",
       "    <tr>\n",
       "      <th>1413</th>\n",
       "      <td>3610</td>\n",
       "      <td>2019-07-05 08:54:00</td>\n",
       "      <td>2019-07-05 08:55:00</td>\n",
       "      <td>60.0</td>\n",
       "      <td>1</td>\n",
       "      <td>6.0</td>\n",
       "      <td>5.0</td>\n",
       "      <td>1.0</td>\n",
       "      <td>360.0</td>\n",
       "      <td>32.058877</td>\n",
       "      <td>31.294899</td>\n",
       "      <td>SLR</td>\n",
       "    </tr>\n",
       "    <tr>\n",
       "      <th>1414</th>\n",
       "      <td>3610</td>\n",
       "      <td>2019-07-05 08:55:00</td>\n",
       "      <td>2019-07-05 08:56:00</td>\n",
       "      <td>60.0</td>\n",
       "      <td>1</td>\n",
       "      <td>3.0</td>\n",
       "      <td>2.0</td>\n",
       "      <td>1.0</td>\n",
       "      <td>180.0</td>\n",
       "      <td>30.437353</td>\n",
       "      <td>28.439721</td>\n",
       "      <td>SLR</td>\n",
       "    </tr>\n",
       "    <tr>\n",
       "      <th>1415</th>\n",
       "      <td>3610</td>\n",
       "      <td>2019-07-05 08:56:00</td>\n",
       "      <td>2019-07-05 08:57:00</td>\n",
       "      <td>60.0</td>\n",
       "      <td>1</td>\n",
       "      <td>9.0</td>\n",
       "      <td>9.0</td>\n",
       "      <td>0.0</td>\n",
       "      <td>540.0</td>\n",
       "      <td>26.531446</td>\n",
       "      <td>25.440247</td>\n",
       "      <td>SLR</td>\n",
       "    </tr>\n",
       "    <tr>\n",
       "      <th>1416</th>\n",
       "      <td>3610</td>\n",
       "      <td>2019-07-05 08:57:00</td>\n",
       "      <td>2019-07-05 08:58:00</td>\n",
       "      <td>60.0</td>\n",
       "      <td>1</td>\n",
       "      <td>4.0</td>\n",
       "      <td>4.0</td>\n",
       "      <td>0.0</td>\n",
       "      <td>240.0</td>\n",
       "      <td>23.690624</td>\n",
       "      <td>19.002454</td>\n",
       "      <td>SLR</td>\n",
       "    </tr>\n",
       "    <tr>\n",
       "      <th>1417</th>\n",
       "      <td>3610</td>\n",
       "      <td>2019-07-05 08:58:00</td>\n",
       "      <td>2019-07-05 08:59:00</td>\n",
       "      <td>60.0</td>\n",
       "      <td>1</td>\n",
       "      <td>7.0</td>\n",
       "      <td>7.0</td>\n",
       "      <td>0.0</td>\n",
       "      <td>420.0</td>\n",
       "      <td>31.287333</td>\n",
       "      <td>30.356264</td>\n",
       "      <td>SLR</td>\n",
       "    </tr>\n",
       "  </tbody>\n",
       "</table>\n",
       "<p>1418 rows × 12 columns</p>\n",
       "</div>"
      ],
      "text/plain": [
       "      DEVICEID             FROMTIME               TOTIME  INTERVAL  LANEID  \\\n",
       "0         3603  2019-07-05 07:00:00  2019-07-05 07:01:00      60.0       2   \n",
       "1         3603  2019-07-05 07:00:00  2019-07-05 07:01:00      60.0       1   \n",
       "2         3603  2019-07-05 07:01:00  2019-07-05 07:02:00      60.0       2   \n",
       "3         3603  2019-07-05 07:01:00  2019-07-05 07:02:00      60.0       1   \n",
       "4         3603  2019-07-05 07:02:00  2019-07-05 07:03:00      60.0       1   \n",
       "...        ...                  ...                  ...       ...     ...   \n",
       "1413      3610  2019-07-05 08:54:00  2019-07-05 08:55:00      60.0       1   \n",
       "1414      3610  2019-07-05 08:55:00  2019-07-05 08:56:00      60.0       1   \n",
       "1415      3610  2019-07-05 08:56:00  2019-07-05 08:57:00      60.0       1   \n",
       "1416      3610  2019-07-05 08:57:00  2019-07-05 08:58:00      60.0       1   \n",
       "1417      3610  2019-07-05 08:58:00  2019-07-05 08:59:00      60.0       1   \n",
       "\n",
       "      COUNT  REGULARCOUNT  LARGECOUNT   FLOW  ARITHMETIC_AVERAGE_SPEED  \\\n",
       "0       1.0           0.0         1.0   60.0                 11.465755   \n",
       "1       1.0           1.0         0.0   60.0                 35.414622   \n",
       "2       6.0           6.0         0.0  360.0                 32.754597   \n",
       "3       4.0           4.0         0.0  240.0                 35.540343   \n",
       "4       2.0           2.0         0.0  120.0                 10.389970   \n",
       "...     ...           ...         ...    ...                       ...   \n",
       "1413    6.0           5.0         1.0  360.0                 32.058877   \n",
       "1414    3.0           2.0         1.0  180.0                 30.437353   \n",
       "1415    9.0           9.0         0.0  540.0                 26.531446   \n",
       "1416    4.0           4.0         0.0  240.0                 23.690624   \n",
       "1417    7.0           7.0         0.0  420.0                 31.287333   \n",
       "\n",
       "      HARMONIC_AVERAGE_SPEED TURN  \n",
       "0                  11.465755   SR  \n",
       "1                  35.414622   SL  \n",
       "2                  32.545972   SR  \n",
       "3                  35.536300   SL  \n",
       "4                   9.688504   SL  \n",
       "...                      ...  ...  \n",
       "1413               31.294899  SLR  \n",
       "1414               28.439721  SLR  \n",
       "1415               25.440247  SLR  \n",
       "1416               19.002454  SLR  \n",
       "1417               30.356264  SLR  \n",
       "\n",
       "[1418 rows x 12 columns]"
      ]
     },
     "execution_count": 6,
     "metadata": {},
     "output_type": "execute_result"
    }
   ],
   "source": [
    "df"
   ]
  },
  {
   "cell_type": "code",
   "execution_count": 7,
   "metadata": {
    "ExecuteTime": {
     "end_time": "2023-06-16T14:49:24.563406Z",
     "start_time": "2023-06-16T14:49:24.529442Z"
    }
   },
   "outputs": [],
   "source": [
    "content = \"2019-07-05 08:54:00\""
   ]
  },
  {
   "cell_type": "code",
   "execution_count": 8,
   "metadata": {
    "ExecuteTime": {
     "end_time": "2023-06-16T14:49:24.563406Z",
     "start_time": "2023-06-16T14:49:24.533534Z"
    }
   },
   "outputs": [],
   "source": [
    "sec = 27"
   ]
  },
  {
   "cell_type": "code",
   "execution_count": 9,
   "metadata": {
    "ExecuteTime": {
     "end_time": "2023-06-16T14:49:24.563406Z",
     "start_time": "2023-06-16T14:49:24.542122Z"
    }
   },
   "outputs": [
    {
     "data": {
      "text/plain": [
       "25"
      ]
     },
     "execution_count": 9,
     "metadata": {},
     "output_type": "execute_result"
    }
   ],
   "source": [
    "int(sec / 5) * 5"
   ]
  },
  {
   "cell_type": "code",
   "execution_count": 10,
   "metadata": {
    "ExecuteTime": {
     "end_time": "2023-06-16T14:49:24.563406Z",
     "start_time": "2023-06-16T14:49:24.549266Z"
    }
   },
   "outputs": [
    {
     "data": {
      "text/plain": [
       "['2019-07-05 08', '54', '00']"
      ]
     },
     "execution_count": 10,
     "metadata": {},
     "output_type": "execute_result"
    }
   ],
   "source": [
    "content.split(\":\")"
   ]
  },
  {
   "cell_type": "code",
   "execution_count": 11,
   "metadata": {
    "ExecuteTime": {
     "end_time": "2023-06-16T14:49:24.569314Z",
     "start_time": "2023-06-16T14:49:24.558258Z"
    }
   },
   "outputs": [
    {
     "data": {
      "text/plain": [
       "['2', '0', '1', '9', '0', '7', '0', '5', '0', '8', '5', '4', '0', '0']"
      ]
     },
     "execution_count": 11,
     "metadata": {},
     "output_type": "execute_result"
    }
   ],
   "source": [
    "import re\n",
    "re.findall(\"\\d\",content)"
   ]
  },
  {
   "cell_type": "code",
   "execution_count": 12,
   "metadata": {
    "ExecuteTime": {
     "end_time": "2023-06-16T14:49:24.569314Z",
     "start_time": "2023-06-16T14:49:24.563406Z"
    }
   },
   "outputs": [],
   "source": [
    "def change_time_span(x:str):\n",
    "    \"\"\"\n",
    "    将分钟转换为5分钟时间间隔\n",
    "    \"\"\"\n",
    "    time_array = x.split(\":\")\n",
    "\n",
    "    min_str = time_array[-2] #取出分钟字符串\n",
    "\n",
    "    min_idx = int(int(min_str) / 5) #计算当前分钟是第几个5分钟索引\n",
    "\n",
    "    real_min =str(min_idx * 5) #属于哪个5分钟\n",
    "\n",
    "    if len(real_min) < 2:\n",
    "        real_min = '0' + real_min\n",
    "\n",
    "    time_array[-2] = real_min\n",
    "\n",
    "    return \":\".join(time_array)\n",
    "\n"
   ]
  },
  {
   "cell_type": "code",
   "execution_count": 13,
   "metadata": {
    "ExecuteTime": {
     "end_time": "2023-06-16T14:49:24.639347Z",
     "start_time": "2023-06-16T14:49:24.569314Z"
    }
   },
   "outputs": [
    {
     "data": {
      "text/plain": [
       "'2019-07-05 08:05:00'"
      ]
     },
     "execution_count": 13,
     "metadata": {},
     "output_type": "execute_result"
    }
   ],
   "source": [
    "change_time_span(\"2019-07-05 08:06:00\")"
   ]
  },
  {
   "cell_type": "code",
   "execution_count": 14,
   "metadata": {
    "ExecuteTime": {
     "end_time": "2023-06-16T14:49:24.670657Z",
     "start_time": "2023-06-16T14:49:24.577583Z"
    }
   },
   "outputs": [],
   "source": [
    "df['FROMTIME'] = df['FROMTIME'].apply(lambda x:change_time_span(x))"
   ]
  },
  {
   "cell_type": "code",
   "execution_count": 15,
   "metadata": {
    "ExecuteTime": {
     "end_time": "2023-06-16T14:49:24.686340Z",
     "start_time": "2023-06-16T14:49:24.587571Z"
    }
   },
   "outputs": [
    {
     "data": {
      "text/plain": [
       "0       2019-07-05 07:00:00\n",
       "1       2019-07-05 07:00:00\n",
       "2       2019-07-05 07:00:00\n",
       "3       2019-07-05 07:00:00\n",
       "4       2019-07-05 07:00:00\n",
       "               ...         \n",
       "1413    2019-07-05 08:50:00\n",
       "1414    2019-07-05 08:55:00\n",
       "1415    2019-07-05 08:55:00\n",
       "1416    2019-07-05 08:55:00\n",
       "1417    2019-07-05 08:55:00\n",
       "Name: FROMTIME, Length: 1418, dtype: object"
      ]
     },
     "execution_count": 15,
     "metadata": {},
     "output_type": "execute_result"
    }
   ],
   "source": [
    "df['FROMTIME']"
   ]
  },
  {
   "cell_type": "code",
   "execution_count": 16,
   "metadata": {
    "ExecuteTime": {
     "end_time": "2023-06-16T14:49:24.686340Z",
     "start_time": "2023-06-16T14:49:24.597786Z"
    }
   },
   "outputs": [
    {
     "name": "stdout",
     "output_type": "stream",
     "text": [
      "<class 'pandas.core.frame.DataFrame'>\n",
      "Index: 1418 entries, 0 to 1417\n",
      "Data columns (total 12 columns):\n",
      " #   Column                    Non-Null Count  Dtype  \n",
      "---  ------                    --------------  -----  \n",
      " 0   DEVICEID                  1418 non-null   int64  \n",
      " 1   FROMTIME                  1418 non-null   object \n",
      " 2   TOTIME                    1418 non-null   object \n",
      " 3   INTERVAL                  1418 non-null   float64\n",
      " 4   LANEID                    1418 non-null   int64  \n",
      " 5   COUNT                     1418 non-null   float64\n",
      " 6   REGULARCOUNT              1418 non-null   float64\n",
      " 7   LARGECOUNT                1418 non-null   float64\n",
      " 8   FLOW                      1418 non-null   float64\n",
      " 9   ARITHMETIC_AVERAGE_SPEED  1418 non-null   float64\n",
      " 10  HARMONIC_AVERAGE_SPEED    1418 non-null   float64\n",
      " 11  TURN                      1418 non-null   object \n",
      "dtypes: float64(7), int64(2), object(3)\n",
      "memory usage: 144.0+ KB\n"
     ]
    }
   ],
   "source": [
    "df.info()"
   ]
  },
  {
   "cell_type": "code",
   "execution_count": 17,
   "metadata": {
    "ExecuteTime": {
     "end_time": "2023-06-16T14:49:24.686340Z",
     "start_time": "2023-06-16T14:49:24.608261Z"
    }
   },
   "outputs": [
    {
     "data": {
      "text/html": [
       "<div>\n",
       "<style scoped>\n",
       "    .dataframe tbody tr th:only-of-type {\n",
       "        vertical-align: middle;\n",
       "    }\n",
       "\n",
       "    .dataframe tbody tr th {\n",
       "        vertical-align: top;\n",
       "    }\n",
       "\n",
       "    .dataframe thead th {\n",
       "        text-align: right;\n",
       "    }\n",
       "</style>\n",
       "<table border=\"1\" class=\"dataframe\">\n",
       "  <thead>\n",
       "    <tr style=\"text-align: right;\">\n",
       "      <th></th>\n",
       "      <th></th>\n",
       "      <th>COUNT</th>\n",
       "    </tr>\n",
       "    <tr>\n",
       "      <th>DEVICEID</th>\n",
       "      <th>FROMTIME</th>\n",
       "      <th></th>\n",
       "    </tr>\n",
       "  </thead>\n",
       "  <tbody>\n",
       "    <tr>\n",
       "      <th rowspan=\"5\" valign=\"top\">3603</th>\n",
       "      <th>2019-07-05 07:00:00</th>\n",
       "      <td>24.0</td>\n",
       "    </tr>\n",
       "    <tr>\n",
       "      <th>2019-07-05 07:05:00</th>\n",
       "      <td>39.0</td>\n",
       "    </tr>\n",
       "    <tr>\n",
       "      <th>2019-07-05 07:10:00</th>\n",
       "      <td>38.0</td>\n",
       "    </tr>\n",
       "    <tr>\n",
       "      <th>2019-07-05 07:15:00</th>\n",
       "      <td>45.0</td>\n",
       "    </tr>\n",
       "    <tr>\n",
       "      <th>2019-07-05 07:20:00</th>\n",
       "      <td>47.0</td>\n",
       "    </tr>\n",
       "    <tr>\n",
       "      <th>...</th>\n",
       "      <th>...</th>\n",
       "      <td>...</td>\n",
       "    </tr>\n",
       "    <tr>\n",
       "      <th rowspan=\"5\" valign=\"top\">3610</th>\n",
       "      <th>2019-07-05 08:35:00</th>\n",
       "      <td>22.0</td>\n",
       "    </tr>\n",
       "    <tr>\n",
       "      <th>2019-07-05 08:40:00</th>\n",
       "      <td>23.0</td>\n",
       "    </tr>\n",
       "    <tr>\n",
       "      <th>2019-07-05 08:45:00</th>\n",
       "      <td>21.0</td>\n",
       "    </tr>\n",
       "    <tr>\n",
       "      <th>2019-07-05 08:50:00</th>\n",
       "      <td>30.0</td>\n",
       "    </tr>\n",
       "    <tr>\n",
       "      <th>2019-07-05 08:55:00</th>\n",
       "      <td>23.0</td>\n",
       "    </tr>\n",
       "  </tbody>\n",
       "</table>\n",
       "<p>192 rows × 1 columns</p>\n",
       "</div>"
      ],
      "text/plain": [
       "                              COUNT\n",
       "DEVICEID FROMTIME                  \n",
       "3603     2019-07-05 07:00:00   24.0\n",
       "         2019-07-05 07:05:00   39.0\n",
       "         2019-07-05 07:10:00   38.0\n",
       "         2019-07-05 07:15:00   45.0\n",
       "         2019-07-05 07:20:00   47.0\n",
       "...                             ...\n",
       "3610     2019-07-05 08:35:00   22.0\n",
       "         2019-07-05 08:40:00   23.0\n",
       "         2019-07-05 08:45:00   21.0\n",
       "         2019-07-05 08:50:00   30.0\n",
       "         2019-07-05 08:55:00   23.0\n",
       "\n",
       "[192 rows x 1 columns]"
      ]
     },
     "execution_count": 17,
     "metadata": {},
     "output_type": "execute_result"
    }
   ],
   "source": [
    "df_span = df.loc[:,['DEVICEID','FROMTIME','COUNT']].groupby(['DEVICEID','FROMTIME']).sum()\n",
    "df_span"
   ]
  },
  {
   "cell_type": "code",
   "execution_count": 18,
   "metadata": {
    "ExecuteTime": {
     "end_time": "2023-06-16T14:49:24.686340Z",
     "start_time": "2023-06-16T14:49:24.623527Z"
    }
   },
   "outputs": [
    {
     "data": {
      "text/plain": [
       "array([24., 39., 38., 45., 47., 51., 52., 75., 82., 83., 55., 88., 75.,\n",
       "       68., 51., 76., 55., 62., 59., 56., 56., 55., 69., 53.])"
      ]
     },
     "execution_count": 18,
     "metadata": {},
     "output_type": "execute_result"
    }
   ],
   "source": [
    "df_span.query('DEVICEID == 3603').values.reshape(-1,)"
   ]
  },
  {
   "cell_type": "code",
   "execution_count": 19,
   "metadata": {
    "ExecuteTime": {
     "end_time": "2023-06-16T14:49:24.686340Z",
     "start_time": "2023-06-16T14:49:24.632323Z"
    }
   },
   "outputs": [
    {
     "data": {
      "text/plain": [
       "0     24.0\n",
       "1     39.0\n",
       "2     38.0\n",
       "3     45.0\n",
       "4     47.0\n",
       "5     51.0\n",
       "6     52.0\n",
       "7     75.0\n",
       "8     82.0\n",
       "9     83.0\n",
       "10    55.0\n",
       "11    88.0\n",
       "12    75.0\n",
       "13    68.0\n",
       "14    51.0\n",
       "15    76.0\n",
       "16    55.0\n",
       "17    62.0\n",
       "18    59.0\n",
       "19    56.0\n",
       "20    56.0\n",
       "21    55.0\n",
       "22    69.0\n",
       "23    53.0\n",
       "dtype: float64"
      ]
     },
     "execution_count": 19,
     "metadata": {},
     "output_type": "execute_result"
    }
   ],
   "source": [
    "s = pd.Series(df_span.query('DEVICEID == 3603').values.reshape(-1,))\n",
    "s"
   ]
  },
  {
   "cell_type": "code",
   "execution_count": 20,
   "metadata": {
    "ExecuteTime": {
     "end_time": "2023-06-16T14:49:24.993305Z",
     "start_time": "2023-06-16T14:49:24.642994Z"
    }
   },
   "outputs": [],
   "source": [
    "%matplotlib inline"
   ]
  },
  {
   "cell_type": "code",
   "execution_count": 21,
   "metadata": {
    "ExecuteTime": {
     "end_time": "2023-06-16T14:49:25.105044Z",
     "start_time": "2023-06-16T14:49:24.993305Z"
    }
   },
   "outputs": [
    {
     "data": {
      "text/plain": [
       "<Axes: >"
      ]
     },
     "execution_count": 21,
     "metadata": {},
     "output_type": "execute_result"
    },
    {
     "data": {
      "image/png": "[encoded data removed]",
      "text/plain": [
       "<Figure size 640x480 with 1 Axes>"
      ]
     },
     "metadata": {},
     "output_type": "display_data"
    }
   ],
   "source": [
    "s.plot()"
   ]
  },
  {
   "cell_type": "code",
   "execution_count": 22,
   "metadata": {
    "ExecuteTime": {
     "end_time": "2023-06-16T14:49:25.924530Z",
     "start_time": "2023-06-16T14:49:25.105044Z"
    }
   },
   "outputs": [],
   "source": [
    "from sklearn.model_selection import train_test_split\n",
    "# 划分数据集\n",
    "train_data=s[:-20]\n",
    "test_data = s[4:]"
   ]
  },
  {
   "cell_type": "code",
   "execution_count": 23,
   "metadata": {
    "ExecuteTime": {
     "end_time": "2023-06-16T14:49:26.010558Z",
     "start_time": "2023-06-16T14:49:25.924530Z"
    }
   },
   "outputs": [],
   "source": [
    "from statsmodels.tsa.ar_model import AutoReg\n",
    "\n",
    "# 创建自回归模型并训练\n",
    "model = AutoReg(s, lags=4)\n",
    "model_fit = model.fit()"
   ]
  },
  {
   "cell_type": "code",
   "execution_count": 24,
   "metadata": {
    "ExecuteTime": {
     "end_time": "2023-06-16T14:49:26.109543Z",
     "start_time": "2023-06-16T14:49:26.010558Z"
    }
   },
   "outputs": [
    {
     "data": {
      "image/png": "[encoded data removed]",
      "text/plain": [
       "<Figure size 640x480 with 1 Axes>"
      ]
     },
     "metadata": {},
     "output_type": "display_data"
    }
   ],
   "source": [
    "from matplotlib import pyplot as plt\n",
    "\n",
    "# 进行预测\n",
    "predictions = model_fit.predict(start=len(train_data), end=len(train_data) + len(test_data) - 1)\n",
    "\n",
    "# 可视化结果\n",
    "plt.plot(test_data.index, test_data, label='Actual')\n",
    "plt.plot(test_data.index, predictions, label='Predicted')\n",
    "plt.xlabel('Time')\n",
    "plt.ylabel('Traffic Flow')\n",
    "plt.legend()\n",
    "plt.show()"
   ]
  },
  {
   "cell_type": "code",
   "execution_count": 25,
   "metadata": {
    "ExecuteTime": {
     "end_time": "2023-06-16T14:49:26.193209Z",
     "start_time": "2023-06-16T14:49:26.109543Z"
    }
   },
   "outputs": [],
   "source": [
    "import numpy as np\n",
    "from sklearn.svm import SVR\n",
    "from sklearn.metrics import mean_squared_error\n",
    "from matplotlib import pyplot as plt\n",
    "\n",
    "# 创建一个SVR模型\n",
    "svr_model = SVR(kernel='linear', C=1.0, epsilon=0.1)"
   ]
  },
  {
   "cell_type": "code",
   "execution_count": 26,
   "metadata": {
    "ExecuteTime": {
     "end_time": "2023-06-16T14:49:26.200302Z",
     "start_time": "2023-06-16T14:49:26.193209Z"
    }
   },
   "outputs": [],
   "source": [
    "# 定义特征窗口长度\n",
    "window_len = 5\n",
    "\n",
    "# 生成训练集\n",
    "train_x, train_y = [], []\n",
    "for i in range(window_len, len(s)):\n",
    "    train_x.append(s[i-window_len:i])\n",
    "    train_y.append(s[i])\n",
    "train_x = np.array(train_x)\n",
    "train_y = np.array(train_y)\n",
    "\n",
    "# 生成测试集\n",
    "test_x, test_y = [], []\n",
    "for i in range(len(s)-window_len, len(s)):\n",
    "    test_x.append(s[i-window_len:i])\n",
    "    test_y.append(s[i])\n",
    "test_x = np.array(test_x)\n",
    "test_y = np.array(test_y)\n"
   ]
  },
  {
   "cell_type": "code",
   "execution_count": 27,
   "metadata": {
    "ExecuteTime": {
     "end_time": "2023-06-16T14:49:26.215835Z",
     "start_time": "2023-06-16T14:49:26.200302Z"
    }
   },
   "outputs": [
    {
     "data": {
      "text/html": [
       "<style>#sk-container-id-1 {color: black;background-color: white;}#sk-container-id-1 pre{padding: 0;}#sk-container-id-1 div.sk-toggleable {background-color: white;}#sk-container-id-1 label.sk-toggleable__label {cursor: pointer;display: block;width: 100%;margin-bottom: 0;padding: 0.3em;box-sizing: border-box;text-align: center;}#sk-container-id-1 label.sk-toggleable__label-arrow:before {content: \"▸\";float: left;margin-right: 0.25em;color: #696969;}#sk-container-id-1 label.sk-toggleable__label-arrow:hover:before {color: black;}#sk-container-id-1 div.sk-estimator:hover label.sk-toggleable__label-arrow:before {color: black;}#sk-container-id-1 div.sk-toggleable__content {max-height: 0;max-width: 0;overflow: hidden;text-align: left;background-color: #f0f8ff;}#sk-container-id-1 div.sk-toggleable__content pre {margin: 0.2em;color: black;border-radius: 0.25em;background-color: #f0f8ff;}#sk-container-id-1 input.sk-toggleable__control:checked~div.sk-toggleable__content {max-height: 200px;max-width: 100%;overflow: auto;}#sk-container-id-1 input.sk-toggleable__control:checked~label.sk-toggleable__label-arrow:before {content: \"▾\";}#sk-container-id-1 div.sk-estimator input.sk-toggleable__control:checked~label.sk-toggleable__label {background-color: #d4ebff;}#sk-container-id-1 div.sk-label input.sk-toggleable__control:checked~label.sk-toggleable__label {background-color: #d4ebff;}#sk-container-id-1 input.sk-hidden--visually {border: 0;clip: rect(1px 1px 1px 1px);clip: rect(1px, 1px, 1px, 1px);height: 1px;margin: -1px;overflow: hidden;padding: 0;position: absolute;width: 1px;}#sk-container-id-1 div.sk-estimator {font-family: monospace;background-color: #f0f8ff;border: 1px dotted black;border-radius: 0.25em;box-sizing: border-box;margin-bottom: 0.5em;}#sk-container-id-1 div.sk-estimator:hover {background-color: #d4ebff;}#sk-container-id-1 div.sk-parallel-item::after {content: \"\";width: 100%;border-bottom: 1px solid gray;flex-grow: 1;}#sk-container-id-1 div.sk-label:hover label.sk-toggleable__label {background-color: #d4ebff;}#sk-container-id-1 div.sk-serial::before {content: \"\";position: absolute;border-left: 1px solid gray;box-sizing: border-box;top: 0;bottom: 0;left: 50%;z-index: 0;}#sk-container-id-1 div.sk-serial {display: flex;flex-direction: column;align-items: center;background-color: white;padding-right: 0.2em;padding-left: 0.2em;position: relative;}#sk-container-id-1 div.sk-item {position: relative;z-index: 1;}#sk-container-id-1 div.sk-parallel {display: flex;align-items: stretch;justify-content: center;background-color: white;position: relative;}#sk-container-id-1 div.sk-item::before, #sk-container-id-1 div.sk-parallel-item::before {content: \"\";position: absolute;border-left: 1px solid gray;box-sizing: border-box;top: 0;bottom: 0;left: 50%;z-index: -1;}#sk-container-id-1 div.sk-parallel-item {display: flex;flex-direction: column;z-index: 1;position: relative;background-color: white;}#sk-container-id-1 div.sk-parallel-item:first-child::after {align-self: flex-end;width: 50%;}#sk-container-id-1 div.sk-parallel-item:last-child::after {align-self: flex-start;width: 50%;}#sk-container-id-1 div.sk-parallel-item:only-child::after {width: 0;}#sk-container-id-1 div.sk-dashed-wrapped {border: 1px dashed gray;margin: 0 0.4em 0.5em 0.4em;box-sizing: border-box;padding-bottom: 0.4em;background-color: white;}#sk-container-id-1 div.sk-label label {font-family: monospace;font-weight: bold;display: inline-block;line-height: 1.2em;}#sk-container-id-1 div.sk-label-container {text-align: center;}#sk-container-id-1 div.sk-container {/* jupyter's `normalize.less` sets `[hidden] { display: none; }` but bootstrap.min.css set `[hidden] { display: none !important; }` so we also need the `!important` here to be able to override the default hidden behavior on the sphinx rendered scikit-learn.org. See: https://github.com/scikit-learn/scikit-learn/issues/21755 */display: inline-block !important;position: relative;}#sk-container-id-1 div.sk-text-repr-fallback {display: none;}</style><div id=\"sk-container-id-1\" class=\"sk-top-container\"><div class=\"sk-text-repr-fallback\"><pre>SVR(kernel=&#x27;linear&#x27;)</pre><b>In a Jupyter environment, please rerun this cell to show the HTML representation or trust the notebook. <br />On GitHub, the HTML representation is unable to render, please try loading this page with nbviewer.org.</b></div><div class=\"sk-container\" hidden><div class=\"sk-item\"><div class=\"sk-estimator sk-toggleable\"><input class=\"sk-toggleable__control sk-hidden--visually\" id=\"sk-estimator-id-1\" type=\"checkbox\" checked><label for=\"sk-estimator-id-1\" class=\"sk-toggleable__label sk-toggleable__label-arrow\">SVR</label><div class=\"sk-toggleable__content\"><pre>SVR(kernel=&#x27;linear&#x27;)</pre></div></div></div></div></div>"
      ],
      "text/plain": [
       "SVR(kernel='linear')"
      ]
     },
     "execution_count": 27,
     "metadata": {},
     "output_type": "execute_result"
    }
   ],
   "source": [
    "from sklearn import svm\n",
    "\n",
    "# 训练 SVM 模型\n",
    "clf = svm.SVR(kernel='linear') # 定义 SVM 模型\n",
    "clf.fit(train_x, train_y) # 训练 SVM 模型"
   ]
  },
  {
   "cell_type": "code",
   "execution_count": 28,
   "metadata": {
    "ExecuteTime": {
     "end_time": "2023-06-16T14:49:26.221358Z",
     "start_time": "2023-06-16T14:49:26.215835Z"
    }
   },
   "outputs": [
    {
     "data": {
      "text/plain": [
       "array([[51., 76., 55., 62., 59.],\n",
       "       [76., 55., 62., 59., 56.],\n",
       "       [55., 62., 59., 56., 56.],\n",
       "       [62., 59., 56., 56., 55.],\n",
       "       [59., 56., 56., 55., 69.]])"
      ]
     },
     "execution_count": 28,
     "metadata": {},
     "output_type": "execute_result"
    }
   ],
   "source": [
    "test_x"
   ]
  },
  {
   "cell_type": "code",
   "execution_count": 29,
   "metadata": {
    "ExecuteTime": {
     "end_time": "2023-06-16T14:49:26.261025Z",
     "start_time": "2023-06-16T14:49:26.221358Z"
    }
   },
   "outputs": [],
   "source": [
    "prediction = clf.predict(test_x)"
   ]
  },
  {
   "cell_type": "code",
   "execution_count": 30,
   "metadata": {
    "ExecuteTime": {
     "end_time": "2023-06-16T14:49:26.262026Z",
     "start_time": "2023-06-16T14:49:26.227436Z"
    }
   },
   "outputs": [
    {
     "data": {
      "text/plain": [
       "array([65.96769423, 55.5374301 , 60.71655108, 57.3816414 , 56.35052985])"
      ]
     },
     "execution_count": 30,
     "metadata": {},
     "output_type": "execute_result"
    }
   ],
   "source": [
    "prediction"
   ]
  },
  {
   "cell_type": "code",
   "execution_count": 31,
   "metadata": {
    "ExecuteTime": {
     "end_time": "2023-06-16T14:49:26.262026Z",
     "start_time": "2023-06-16T14:49:26.241504Z"
    }
   },
   "outputs": [
    {
     "data": {
      "text/plain": [
       "array([56., 56., 55., 69., 53.])"
      ]
     },
     "execution_count": 31,
     "metadata": {},
     "output_type": "execute_result"
    }
   ],
   "source": [
    "test_y"
   ]
  },
  {
   "cell_type": "code",
   "execution_count": 32,
   "metadata": {
    "ExecuteTime": {
     "end_time": "2023-06-16T14:49:26.449842Z",
     "start_time": "2023-06-16T14:49:26.245105Z"
    }
   },
   "outputs": [
    {
     "data": {
      "image/png": "[encoded data removed]",
      "text/plain": [
       "<Figure size 640x480 with 1 Axes>"
      ]
     },
     "metadata": {},
     "output_type": "display_data"
    }
   ],
   "source": [
    "# 可视化结果\n",
    "plt.plot(test_y, label='Actual')\n",
    "plt.plot(prediction, label='Predicted')\n",
    "plt.xlabel('Time')\n",
    "plt.ylabel('Traffic Flow')\n",
    "plt.legend()\n",
    "plt.show()"
   ]
  }
 ],
 "metadata": {
  "kernelspec": {
   "display_name": "Python 3 (ipykernel)",
   "language": "python",
   "name": "python3"
  },
  "language_info": {
   "codemirror_mode": {
    "name": "ipython",
    "version": 3
   },
   "file_extension": ".py",
   "mimetype": "text/x-python",
   "name": "python",
   "nbconvert_exporter": "python",
   "pygments_lexer": "ipython3",
   "version": "3.10.9"
  }
 },
 "nbformat": 4,
 "nbformat_minor": 1
}
